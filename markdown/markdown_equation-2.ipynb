{
 "cells": [
  {
   "cell_type": "markdown",
   "id": "d4e69cf6",
   "metadata": {},
   "source": [
    "# markdown_equation_2\n",
    "Display equation using Markdown in a Jupyter Notebook."
   ]
  },
  {
   "cell_type": "code",
   "execution_count": 1,
   "id": "12b8190e",
   "metadata": {},
   "outputs": [
    {
     "name": "stdout",
     "output_type": "stream",
     "text": [
      "Hello, World!\n"
     ]
    }
   ],
   "source": [
    "print(\"Hello, World!\")"
   ]
  },
  {
   "cell_type": "markdown",
   "id": "1056e697",
   "metadata": {},
   "source": [
    "$y = ax^2 + bx + c$"
   ]
  },
  {
   "cell_type": "markdown",
   "id": "27c9690a",
   "metadata": {},
   "source": [
    "\\begin{equation}\n",
    "x_{1,2} = \\frac{-b \\pm \\sqrt{b^2 - 4ac}}{2a}\n",
    "\\end{equation}\n"
   ]
  },
  {
   "cell_type": "code",
   "execution_count": 7,
   "id": "a5db4278",
   "metadata": {},
   "outputs": [
    {
     "name": "stdout",
     "output_type": "stream",
     "text": [
      "x1 = 3.0\n",
      "x2 = 2.0\n"
     ]
    }
   ],
   "source": [
    "# y = (x - 2)(x - 3) = x^2 - 5x + 6\n",
    "a = 1\n",
    "b = -5\n",
    "c = 6\n",
    "\n",
    "D = b*b - 4*a*c\n",
    "\n",
    "import numpy as np\n",
    "\n",
    "x1 = (-b + np.sqrt(D)) / (2*a)\n",
    "x2 = (-b - np.sqrt(D)) / (2*a)\n",
    "\n",
    "print(\"x1 =\", x1)\n",
    "print(\"x2 =\", x2)"
   ]
  },
  {
   "cell_type": "code",
   "execution_count": 11,
   "id": "429c4460",
   "metadata": {},
   "outputs": [
    {
     "name": "stdout",
     "output_type": "stream",
     "text": [
      "x1 = 0.0  + i 2.0\n",
      "x2 = 0.0  - i 2.0\n"
     ]
    }
   ],
   "source": [
    "# y = x^2 + 4\n",
    "a = 1\n",
    "b = 0\n",
    "c = 4\n",
    "\n",
    "D = b*b - 4*a*c\n",
    "\n",
    "import numpy as np\n",
    "\n",
    "if D < 0:\n",
    "    im = np.sqrt(-D) / (2*a)\n",
    "    re = -b / (2*a)\n",
    "    \n",
    "    print(\"x1 =\", re, \" + i\", im)\n",
    "    print(\"x2 =\", re, \" - i\", im)\n",
    "else:\n",
    "    x1 = (-b + np.sqrt(D)) / (2*a)\n",
    "    x2 = (-b - np.sqrt(D)) / (2*a)\n",
    "\n",
    "    print(\"x1 =\", x1)\n",
    "    print(\"x2 =\", x2)"
   ]
  }
 ],
 "metadata": {
  "authors": [
   {
    "name": "Sparisoma Viridi"
   }
  ],
  "kernelspec": {
   "display_name": "Python 3 (ipykernel)",
   "language": "python",
   "name": "python3"
  },
  "language_info": {
   "codemirror_mode": {
    "name": "ipython",
    "version": 3
   },
   "file_extension": ".py",
   "mimetype": "text/x-python",
   "name": "python",
   "nbconvert_exporter": "python",
   "pygments_lexer": "ipython3",
   "version": "3.9.12"
  },
  "title": "markdown_equation"
 },
 "nbformat": 4,
 "nbformat_minor": 5
}
