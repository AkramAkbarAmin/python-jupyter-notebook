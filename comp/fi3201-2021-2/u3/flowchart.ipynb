{
 "cells": [
  {
   "cell_type": "markdown",
   "id": "cca11c7c",
   "metadata": {},
   "source": [
    "# flowchart\n",
    "Draw flowchart using [Mermaid](https://mermaid-js.github.io/mermaid/#/flowchart) in a Markdown file at [Github](https://github.com)"
   ]
  },
  {
   "cell_type": "markdown",
   "id": "cfda9097",
   "metadata": {},
   "source": [
    "## concept\n",
    "Berikut ada suatu konsep yang digunakan dalam FI3201 Fisika Komputasi"
   ]
  },
  {
   "cell_type": "markdown",
   "id": "6868f2a3",
   "metadata": {},
   "source": [
    "<i>`<isikan konsep yang dimaksud beserta persamaan-persamaannya dan hapus baris ini setelahnya>`</i>"
   ]
  },
  {
   "cell_type": "markdown",
   "id": "40bcf84d",
   "metadata": {},
   "source": [
    "## algorithm\n",
    "Langkah-langkah untuk memperoleh hasil akhir dengan menggunakan konsep yang dimaksud adalah"
   ]
  },
  {
   "cell_type": "markdown",
   "id": "e332b7dd",
   "metadata": {},
   "source": [
    "<i>`<tulikan algoritma yang dimaksud, rujuk persamaan-persamaan sebelumnya bila diperlukan, dan hapus baris ini setelahnya>`</i>"
   ]
  },
  {
   "cell_type": "markdown",
   "id": "77921ecc",
   "metadata": {},
   "source": [
    "## flowchart\n",
    "Langkah-langkah dengan persamaan yang disampaikan sebelumnya dapat disajikan dalam bentuk diagram alir berikut"
   ]
  },
  {
   "cell_type": "markdown",
   "id": "e44c3745",
   "metadata": {},
   "source": [
    "Kode diagram alirnya dalam Mermaid adalah sebagai berikut\n",
    "\n",
    "```mermaid\n",
    "```\n",
    "\n",
    "yang hasilnya dapat dilihat dalam berkas [flowchart.md](flowchart.md).\n",
    "\n",
    "<i>`<isikan kode diagram alir dari konsep yang dimaksud dan salin ke dalam berkas flowchart.md sehingga dapat langsung dilihat di GitHub, lalu hapus pesan ini setelahnya>`</i>"
   ]
  },
  {
   "cell_type": "code",
   "execution_count": null,
   "id": "2aed5aa4",
   "metadata": {},
   "outputs": [],
   "source": []
  }
 ],
 "metadata": {
  "authors": [
   {
    "name": "Sparisoma Viridi"
   }
  ],
  "kernelspec": {
   "display_name": "Python 3 (ipykernel)",
   "language": "python",
   "name": "python3"
  },
  "language_info": {
   "codemirror_mode": {
    "name": "ipython",
    "version": 3
   },
   "file_extension": ".py",
   "mimetype": "text/x-python",
   "name": "python",
   "nbconvert_exporter": "python",
   "pygments_lexer": "ipython3",
   "version": "3.10.4"
  },
  "title": "flowchart"
 },
 "nbformat": 4,
 "nbformat_minor": 5
}
