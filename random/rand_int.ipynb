{
 "cells": [
  {
   "cell_type": "markdown",
   "id": "d4e69cf6",
   "metadata": {},
   "source": [
    "# rand_int\n",
    "Using `randint` function to generate random integer number."
   ]
  },
  {
   "cell_type": "code",
   "execution_count": 68,
   "id": "77cd9c2a",
   "metadata": {},
   "outputs": [
    {
     "name": "stdout",
     "output_type": "stream",
     "text": [
      "[0, 0, 0, 0, 0, 0, 0, 0, 0, 0]\n",
      "[6, 9, 3, 5, 6, 4, 6, 6, 9, 2, 6, 0, 7, 2, 6, 9, 6, 9, 3, 3]\n",
      "[1, 0, 2, 3, 1, 1, 7, 1, 0, 4]\n",
      "20\n"
     ]
    }
   ],
   "source": [
    "# get required functions\n",
    "from numpy.random import seed\n",
    "from numpy.random import randint\n",
    "\n",
    "# seed random number generator\n",
    "seed()\n",
    "\n",
    "# set parameters of random numbers\n",
    "Nval = 20\n",
    "minval = 0\n",
    "maxval = 10\n",
    "\n",
    "# create count\n",
    "count = [0] * (maxval - minval)\n",
    "print(count)\n",
    "\n",
    "# create array of random integers\n",
    "values = randint(minval, maxval, Nval).tolist()\n",
    "print(values)\n",
    "\n",
    "for i in values:\n",
    "    count[i] += 1\n",
    "\n",
    "print(count)\n",
    "print(sum(count))"
   ]
  },
  {
   "cell_type": "markdown",
   "id": "a7447741",
   "metadata": {},
   "source": [
    "## References\n",
    "1. Jason Brownlee, \"How to Generate Random Numbers in Python\", Machine Learning Mastery, 4 Jul 2018, url https://machinelearningmastery.com/how-to-generate-random-numbers-in-python/ [20220621].\n",
    "2. dhameliyamilan972, \"How to create List of Zeros in Python\", Exception Error, 6 Jan 2022, url <https://exerror.com/how-to-create-list-of-zeros-in-python/> [20220621].\n",
    "3. tejswini2000k, \"How to convert NumPy array to list ?\", GeeksforGeeks, 16 Mar 2021, url <https://www.geeksforgeeks.org/how-to-convert-numpy-array-to-list/> [20220621]."
   ]
  },
  {
   "cell_type": "markdown",
   "id": "ee1ae699",
   "metadata": {},
   "source": []
  }
 ],
 "metadata": {
  "authors": [
   {
    "name": "Sparisoma Viridi"
   }
  ],
  "kernelspec": {
   "display_name": "Python 3 (ipykernel)",
   "language": "python",
   "name": "python3"
  },
  "language_info": {
   "codemirror_mode": {
    "name": "ipython",
    "version": 3
   },
   "file_extension": ".py",
   "mimetype": "text/x-python",
   "name": "python",
   "nbconvert_exporter": "python",
   "pygments_lexer": "ipython3",
   "version": "3.10.5"
  },
  "title": "rand_int"
 },
 "nbformat": 4,
 "nbformat_minor": 5
}
