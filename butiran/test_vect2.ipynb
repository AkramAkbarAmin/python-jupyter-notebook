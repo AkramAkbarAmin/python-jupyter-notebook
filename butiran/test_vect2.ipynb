{
 "cells": [
  {
   "cell_type": "markdown",
   "id": "d4e69cf6",
   "metadata": {},
   "source": [
    "# test_vect2\n",
    "How to use `vect2` module."
   ]
  },
  {
   "cell_type": "code",
   "execution_count": 7,
   "id": "7b912466",
   "metadata": {},
   "outputs": [],
   "source": [
    "from ipynb.fs.full.vect2 import Vect2"
   ]
  },
  {
   "cell_type": "code",
   "execution_count": 8,
   "id": "fb40c9ca",
   "metadata": {},
   "outputs": [
    {
     "name": "stdout",
     "output_type": "stream",
     "text": [
      "(0, 0)\n"
     ]
    }
   ],
   "source": [
    "v = Vect2()\n",
    "print(v)"
   ]
  },
  {
   "cell_type": "code",
   "execution_count": null,
   "id": "4d09a9f8",
   "metadata": {},
   "outputs": [],
   "source": []
  }
 ],
 "metadata": {
  "authors": [
   {
    "name": "Sparisoma Viridi"
   }
  ],
  "kernelspec": {
   "display_name": "Python 3 (ipykernel)",
   "language": "python",
   "name": "python3"
  },
  "language_info": {
   "codemirror_mode": {
    "name": "ipython",
    "version": 3
   },
   "file_extension": ".py",
   "mimetype": "text/x-python",
   "name": "python",
   "nbconvert_exporter": "python",
   "pygments_lexer": "ipython3",
   "version": "3.10.6"
  },
  "title": "ipynb_hello_import"
 },
 "nbformat": 4,
 "nbformat_minor": 5
}
