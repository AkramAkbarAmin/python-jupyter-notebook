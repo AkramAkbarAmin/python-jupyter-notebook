{
 "cells": [
  {
   "cell_type": "markdown",
   "id": "d4e69cf6",
   "metadata": {},
   "source": [
    "# simple_calculation_of_magnetic_force\n",
    "How to use `vect3` module for 3-d vector operation for simple magnetic force calculation"
   ]
  },
  {
   "cell_type": "code",
   "execution_count": 1,
   "id": "7b912466",
   "metadata": {
    "scrolled": true
   },
   "outputs": [],
   "source": [
    "import sys\n",
    "sys.path.insert(0, \"../butiran\")\n",
    "from ipynb.fs.full.vect3 import Vect3"
   ]
  },
  {
   "cell_type": "code",
   "execution_count": 2,
   "id": "5a04e7c5",
   "metadata": {},
   "outputs": [
    {
     "name": "stdout",
     "output_type": "stream",
     "text": [
      "a = (0, 0, 0)\n"
     ]
    }
   ],
   "source": [
    "a = Vect3()\n",
    "print(\"a =\", a)"
   ]
  }
 ],
 "metadata": {
  "authors": [
   {
    "name": "Sparisoma Viridi"
   }
  ],
  "kernelspec": {
   "display_name": "Python 3 (ipykernel)",
   "language": "python",
   "name": "python3"
  },
  "language_info": {
   "codemirror_mode": {
    "name": "ipython",
    "version": 3
   },
   "file_extension": ".py",
   "mimetype": "text/x-python",
   "name": "python",
   "nbconvert_exporter": "python",
   "pygments_lexer": "ipython3",
   "version": "3.10.6"
  },
  "title": "simple_calculation_of_magnetic_force"
 },
 "nbformat": 4,
 "nbformat_minor": 5
}
