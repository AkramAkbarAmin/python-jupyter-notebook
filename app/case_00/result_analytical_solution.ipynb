{
 "cells": [
  {
   "cell_type": "markdown",
   "id": "d4e69cf6",
   "metadata": {},
   "source": [
    "# result_analytical_solution\n",
    "Solusi analitik untuk gerak partikel titik bermuatan dalam medan magnetik tegak lurus arah geraknya disampaikan di bawah ini."
   ]
  },
  {
   "cell_type": "markdown",
   "id": "8f0c8a54",
   "metadata": {},
   "source": [
    "## theoretical solution\n",
    "Substitusi bentuk medan magnetik dari Persamaan (1) dan bentuk kecepatan dari Persamaan (2) ke Persamaan (6) akan memberikan\n",
    "\n",
    "\\begin{equation}\\tag{7}\n",
    "\\begin{array}{rcl}\n",
    "\\displaystyle \\frac{d}{dt} \\left[ v_x(t) \\hat{x} + v_y(t) \\hat{y} \\right] + \\left[ \\frac{q}{m} (-B_z \\hat{z}) \\right] \\times  \\left[ v_x(t) \\hat{x} + v_y(t) \\hat{y} \\right] & = & 0 \\newline\n",
    "\\displaystyle \\frac{d v_x(t)}{dt} \\hat{x} + \\frac{d v_y(t)}{dt} \\hat{y} + \\left[ \\frac{q B_z v_y(t)}{m} \\right] \\hat{x} - \\left[ \\frac{q B_z v_x(t)}{m} \\right] \\hat{y} & = \\newline\n",
    "\\displaystyle \\left[ \\frac{d v_x(t)}{dt} + \\frac{q B_z v_y(t)}{m} \\right] \\hat{x} & = & \\displaystyle \\left[ -\\frac{d v_y(t)}{dt} + \\frac{q B_z v_x(t)}{m} \\right] \\hat{y},\n",
    "\\end{array}\n",
    "\\end{equation}\n",
    "\n",
    "yang pada kedua ruasnya hanya terdiri dari komponen vektor pada arah-arah yang berbeda."
   ]
  },
  {
   "cell_type": "markdown",
   "id": "63dea4a1",
   "metadata": {},
   "source": [
    "Persamaan (7) akan memberikan solusi bila komponen pada masing-masing arah adalah nol, sehingga diperoleh\n",
    "\n",
    "\\begin{equation}\\tag{8}\n",
    "\\frac{d v_x(t)}{dt} + \\left( \\frac{q B_z}{m} \\right) v_y(t) = 0\n",
    "\\end{equation}\n",
    "\n",
    "dan\n",
    "\n",
    "\\begin{equation}\\tag{9}\n",
    "\\frac{d v_y(t)}{dt} - \\left( \\frac{q B_z}{m} \\right) v_x(t) = 0,\n",
    "\\end{equation}\n",
    "\n",
    "yang akan dipecahkan."
   ]
  },
  {
   "cell_type": "code",
   "execution_count": 1,
   "id": "5bd5d510",
   "metadata": {
    "scrolled": true
   },
   "outputs": [],
   "source": [
    "import sys\n",
    "sys.path.insert(0, \"../butiran\")\n",
    "from ipynb.fs.full.vect3 import Vect3"
   ]
  }
 ],
 "metadata": {
  "authors": [
   {
    "name": "Sparisoma Viridi"
   }
  ],
  "kernelspec": {
   "display_name": "Python 3 (ipykernel)",
   "language": "python",
   "name": "python3"
  },
  "language_info": {
   "codemirror_mode": {
    "name": "ipython",
    "version": 3
   },
   "file_extension": ".py",
   "mimetype": "text/x-python",
   "name": "python",
   "nbconvert_exporter": "python",
   "pygments_lexer": "ipython3",
   "version": "3.9.12"
  },
  "title": "simple_calculation_of_magnetic_force"
 },
 "nbformat": 4,
 "nbformat_minor": 5
}
