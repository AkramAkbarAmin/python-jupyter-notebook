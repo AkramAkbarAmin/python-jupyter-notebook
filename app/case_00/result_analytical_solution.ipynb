{
 "cells": [
  {
   "cell_type": "markdown",
   "id": "d4e69cf6",
   "metadata": {},
   "source": [
    "# result_analytical_solution\n",
    "Solusi analitik untuk gerak partikel titik bermuatan dalam medan magnetik tegak lurus arah geraknya disampaikan di bawah ini."
   ]
  },
  {
   "cell_type": "markdown",
   "id": "8f0c8a54",
   "metadata": {},
   "source": [
    "## coupled differential equations\n",
    "Substitusi bentuk medan magnetik dari Persamaan (1) dan bentuk kecepatan dari Persamaan (2) ke Persamaan (6) akan memberikan\n",
    "\n",
    "\\begin{equation}\\tag{7}\n",
    "\\begin{array}{rcl}\n",
    "\\displaystyle \\frac{d}{dt} \\left[ v_x(t) \\hat{x} + v_y(t) \\hat{y} \\right] + \\left[ \\frac{q}{m} (-B_z \\hat{z}) \\right] \\times  \\left[ v_x(t) \\hat{x} + v_y(t) \\hat{y} \\right] & = & 0 \\newline\n",
    "\\displaystyle \\frac{d v_x(t)}{dt} \\hat{x} + \\frac{d v_y(t)}{dt} \\hat{y} + \\left[ \\frac{q B_z v_y(t)}{m} \\right] \\hat{x} - \\left[ \\frac{q B_z v_x(t)}{m} \\right] \\hat{y} & = \\newline\n",
    "\\displaystyle \\left[ \\frac{d v_x(t)}{dt} + \\frac{q B_z v_y(t)}{m} \\right] \\hat{x} + \\left[ \\frac{d v_y(t)}{dt} - \\frac{q B_z v_x(t)}{m} \\right] \\hat{y} & = &\n",
    "\\end{array}\n",
    "\\end{equation}\n",
    "\n",
    "yang pada ruas kirinya terdiri dari komponen vektor pada dua arah berbeda. Selanjutnya untuk memudahkan dituliskan $v_x = v_x(t)$ dan $v_y = v_y(t)$."
   ]
  },
  {
   "cell_type": "markdown",
   "id": "63dea4a1",
   "metadata": {},
   "source": [
    "Persamaan (7) akan memberikan solusi bila komponen pada masing-masing arah adalah nol, sehingga diperoleh\n",
    "\n",
    "\\begin{equation}\\tag{8}\n",
    "\\frac{d v_x}{dt} + \\left( \\frac{q B_z}{m} \\right) v_y = 0\n",
    "\\end{equation}\n",
    "\n",
    "dan\n",
    "\n",
    "\\begin{equation}\\tag{9}\n",
    "\\frac{d v_y}{dt} - \\left( \\frac{q B_z}{m} \\right) v_x = 0,\n",
    "\\end{equation}\n",
    "\n",
    "yang akan dipecahkan, yang merupakan persamaan diferensial terkopel."
   ]
  },
  {
   "cell_type": "markdown",
   "id": "4140d244",
   "metadata": {},
   "source": [
    "## coefficient\n",
    "Suatu koefisien dapat didefinsikan\n",
    "\n",
    "\\begin{equation}\\tag{10}\n",
    "\\omega = \\frac{q B_z}{m},\n",
    "\\end{equation}\n",
    "\n",
    "yang memiliki satuan $\\rm rad/s$. Dengan demikian Persamaan (8) dan (9) dapat dituliskan kembali menjadi\n",
    "\n",
    "\\begin{equation}\\tag{11}\n",
    "v_y = - \\frac{1}{\\omega} \\frac{d v_x}{dt}  \n",
    "\\end{equation}\n",
    "\n",
    "dan\n",
    "\n",
    "\\begin{equation}\\tag{12}\n",
    "v_x = \\frac{1}{\\omega} \\frac{d v_y}{dt},\n",
    "\\end{equation}\n",
    "\n",
    "yang terlihat lebih ringkas."
   ]
  },
  {
   "cell_type": "markdown",
   "id": "3cb75f08",
   "metadata": {},
   "source": [
    "## second order linear differential equations\n",
    "Substitusi Persamaan (11) ke Persamaan (12) akan memberikan\n",
    "\n",
    "\\begin{equation}\\tag{13}\n",
    "v_x = -\\frac{1}{\\omega^2} \\frac{d^2 v_x}{dt^2}\n",
    "\\end{equation}\n",
    "\n",
    "dan substitusi Persamaan (12) ke Persamaan (11) akan memberikan\n",
    "\n",
    "\\begin{equation}\\tag{14}\n",
    "v_y = -\\frac{1}{\\omega^2} \\frac{d^2 v_y}{dt^2},\n",
    "\\end{equation}\n",
    "\n",
    "yang menjadi persamaan diferensial linier orde kedua untuk sistem osilator harmonik dengan solusi yang telah dikenal."
   ]
  },
  {
   "cell_type": "markdown",
   "id": "271ebd9c",
   "metadata": {},
   "source": [
    "## solution\n",
    "Secara umum solusi keduanya adalah\n",
    "\n",
    "\\begin{equation}\\tag{15}\n",
    "v_{x, y} = A \\cos \\omega t + B \\sin \\omega t.\n",
    "\\end{equation}\n"
   ]
  },
  {
   "cell_type": "code",
   "execution_count": null,
   "id": "fc1852db",
   "metadata": {},
   "outputs": [],
   "source": []
  }
 ],
 "metadata": {
  "authors": [
   {
    "name": "Sparisoma Viridi"
   }
  ],
  "kernelspec": {
   "display_name": "Python 3 (ipykernel)",
   "language": "python",
   "name": "python3"
  },
  "language_info": {
   "codemirror_mode": {
    "name": "ipython",
    "version": 3
   },
   "file_extension": ".py",
   "mimetype": "text/x-python",
   "name": "python",
   "nbconvert_exporter": "python",
   "pygments_lexer": "ipython3",
   "version": "3.9.12"
  },
  "title": "simple_calculation_of_magnetic_force"
 },
 "nbformat": 4,
 "nbformat_minor": 5
}
