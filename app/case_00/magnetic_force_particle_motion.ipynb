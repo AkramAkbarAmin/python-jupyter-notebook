{
 "cells": [
  {
   "cell_type": "markdown",
   "id": "d4e69cf6",
   "metadata": {},
   "source": [
    "# magnetic_force_particle_motion\n",
    "How to use `vect3` module for 3-d vector operation in magnetic force driving motion of a particle"
   ]
  },
  {
   "cell_type": "markdown",
   "id": "7349fd27",
   "metadata": {},
   "source": [
    "## magnetic field\n",
    "Terdapat medan magnetik eksternal berbentuk\n",
    "\n",
    "\\begin{equation}\\tag{1}\n",
    "\\vec{B} = -B_z \\hat{z}\n",
    "\\end{equation}\n",
    "\n",
    "yang bernilai tetap atau $\\frac{d}{dt}B_z = 0$ dan $B_z \\ne 0$."
   ]
  },
  {
   "cell_type": "markdown",
   "id": "94ebf3cc",
   "metadata": {},
   "source": [
    "## moving charge\n",
    "Sebuat partikel titik bermassa $m$ dan bermuatan $q$, dengan $q > 0$ bergerak dengan kecepatan\n",
    "\n",
    "\\begin{equation}\\tag{2}\n",
    "\\vec{v}(t) = v_x(t) \\hat{x} + v_y(t) \\hat{y},\n",
    "\\end{equation}\n",
    "\n",
    "yang pada saat awal $t = t_0$ akan menjadi kecepatan awal\n",
    "\n",
    "\\begin{equation}\\tag{3}\n",
    "\\vec{v}(t_0) = v_{x0} \\hat{x} + v_{y0} \\hat{y} = \\vec{v}_0.\n",
    "\\end{equation}"
   ]
  },
  {
   "cell_type": "markdown",
   "id": "c08cc2c2",
   "metadata": {},
   "source": [
    "## magnetic force\n",
    "Gaya magnetik yang bekerja pada partikel adalah\n",
    "\n",
    "\\begin{equation}\\tag{4}\n",
    "\\vec{F}_B = q \\vec{v} \\times \\vec{B}.\n",
    "\\end{equation}"
   ]
  },
  {
   "cell_type": "markdown",
   "id": "bdd52122",
   "metadata": {},
   "source": [
    "## 2nd newton's law\n",
    "Hukum II Newton memberikan bawah\n",
    "\n",
    "\\begin{equation}\\tag{5}\n",
    "\\sum \\vec{F} = m \\vec{a}, \n",
    "\\end{equation}\n",
    "\n",
    "dengan $\\vec{a}$ adalah percepatan benda setiap saat $t$."
   ]
  },
  {
   "cell_type": "markdown",
   "id": "74190f71",
   "metadata": {},
   "source": [
    "## equation of motion\n",
    "Dengan gaya magnetik $\\vec{F}_B$ pada Persamaan (4) merupakan satu-satunya gaya yang bekerja pada benda, akan membuat Persamaan (5) menjadi\n",
    "\n",
    "\\begin{equation}\\tag{6}\n",
    "\\begin{array}{rcl}\n",
    "\\vec{F}_B & = & m \\vec{a} \\newline\n",
    "q \\vec{v} \\times \\vec{B} & = & \\displaystyle m \\frac{d\\vec{v}}{dt}, \\newline\n",
    "\\displaystyle \\frac{d\\vec{v}}{dt} + \\left( \\frac{q}{m} \\vec{B} \\right) \\times \\vec{v} & = & 0,\n",
    "\\end{array}\n",
    "\\end{equation}\n",
    "\n",
    "dengan menggunakan $\\vec{a} \\times \\vec{b} = - (\\vec{b} \\times \\vec{a})$. Selanjutnya Persamaan (6) akan dipecahkan untuk mendapatkan gerak benda."
   ]
  },
  {
   "cell_type": "markdown",
   "id": "8f0c8a54",
   "metadata": {},
   "source": [
    "## theoretical solution\n",
    "Substitusi bentuk medan magnetik dari Persamaan (1) dan bentuk kecepatan dari Persamaan (2) ke Persamaan (6) akan memberikan\n",
    "\n",
    "\\begin{equation}\\tag{7}\n",
    "\\begin{array}{rcl}\n",
    "\\displaystyle \\frac{d}{dt} \\left[ v_x(t) \\hat{x} + v_y(t) \\hat{y} \\right] + \\left[ \\frac{q}{m} (-B_z \\hat{z}) \\right] \\times  \\left[ v_x(t) \\hat{x} + v_y(t) \\hat{y} \\right] & = & 0 \\newline\n",
    "\\displaystyle \\frac{d v_x(t)}{dt} \\hat{x} + \\frac{d v_y(t)}{dt} \\hat{y} + \\left[ \\frac{q B_z v_y(t)}{m} \\right] \\hat{x} - \\left[ \\frac{q B_z v_x(t)}{m} \\right] \\hat{y} & = \\newline\n",
    "\\displaystyle \\left[ \\frac{d v_x(t)}{dt} + \\frac{q B_z v_y(t)}{m} \\right] \\hat{x} & = & \\displaystyle \\left[ -\\frac{d v_y(t)}{dt} + \\frac{q B_z v_x(t)}{m} \\right] \\hat{y},\n",
    "\\end{array}\n",
    "\\end{equation}\n",
    "\n",
    "yang pada kedua ruasnya hanya terdiri dari komponen vektor pada arah-arah yang berbeda."
   ]
  },
  {
   "cell_type": "markdown",
   "id": "63dea4a1",
   "metadata": {},
   "source": [
    "Persamaan (7) akan memberikan solusi bila komponen pada masing-masing arah adalah nol, sehingga diperoleh\n",
    "\n",
    "\\begin{equation}\\tag{8}\n",
    "\\frac{d v_x(t)}{dt} + \\left( \\frac{q B_z}{m} \\right) v_y(t) = 0\n",
    "\\end{equation}\n",
    "\n",
    "dan\n",
    "\n",
    "\\begin{equation}\\tag{9}\n",
    "\\frac{d v_y(t)}{dt} - \\left( \\frac{q B_z}{m} \\right) v_x(t) = 0,\n",
    "\\end{equation}\n",
    "\n",
    "yang akan dipecahkan."
   ]
  },
  {
   "cell_type": "code",
   "execution_count": 1,
   "id": "5bd5d510",
   "metadata": {
    "scrolled": true
   },
   "outputs": [],
   "source": [
    "import sys\n",
    "sys.path.insert(0, \"../butiran\")\n",
    "from ipynb.fs.full.vect3 import Vect3"
   ]
  }
 ],
 "metadata": {
  "authors": [
   {
    "name": "Sparisoma Viridi"
   }
  ],
  "kernelspec": {
   "display_name": "Python 3 (ipykernel)",
   "language": "python",
   "name": "python3"
  },
  "language_info": {
   "codemirror_mode": {
    "name": "ipython",
    "version": 3
   },
   "file_extension": ".py",
   "mimetype": "text/x-python",
   "name": "python",
   "nbconvert_exporter": "python",
   "pygments_lexer": "ipython3",
   "version": "3.10.6"
  },
  "title": "simple_calculation_of_magnetic_force"
 },
 "nbformat": 4,
 "nbformat_minor": 5
}
