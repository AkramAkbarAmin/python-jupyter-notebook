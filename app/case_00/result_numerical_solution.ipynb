{
 "cells": [
  {
   "cell_type": "markdown",
   "id": "d4e69cf6",
   "metadata": {},
   "source": [
    "# result_numerical_solution\n",
    "Di sini disampaikan solusi numerik untuk gerak partikel titik bermuatan dalam medan magnetik tegak lurus arah geraknya."
   ]
  },
  {
   "cell_type": "code",
   "execution_count": 2,
   "id": "5bd5d510",
   "metadata": {
    "scrolled": true
   },
   "outputs": [],
   "source": [
    "import sys\n",
    "sys.path.insert(2, \"../../butiran\")\n",
    "from ipynb.fs.full.vect3 import Vect3"
   ]
  }
 ],
 "metadata": {
  "authors": [
   {
    "name": "Sparisoma Viridi"
   }
  ],
  "kernelspec": {
   "display_name": "Python 3 (ipykernel)",
   "language": "python",
   "name": "python3"
  },
  "language_info": {
   "codemirror_mode": {
    "name": "ipython",
    "version": 3
   },
   "file_extension": ".py",
   "mimetype": "text/x-python",
   "name": "python",
   "nbconvert_exporter": "python",
   "pygments_lexer": "ipython3",
   "version": "3.9.12"
  },
  "title": "result_numerical_solution"
 },
 "nbformat": 4,
 "nbformat_minor": 5
}
