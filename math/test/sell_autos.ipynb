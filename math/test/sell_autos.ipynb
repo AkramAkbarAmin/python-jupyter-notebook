{
 "cells": [
  {
   "cell_type": "markdown",
   "id": "d4e69cf6",
   "metadata": {},
   "source": [
    "# sell_autos\n",
    "Tes III.3: Logika Angka "
   ]
  },
  {
   "cell_type": "markdown",
   "id": "30d96e22",
   "metadata": {},
   "source": [
    "## examples"
   ]
  },
  {
   "cell_type": "markdown",
   "id": "768ff6ad",
   "metadata": {},
   "source": [
    "Sebuah perusahaan mobil merekap hasil penjualan unit mobil dalam 5 tahun terakhir yang tersaji dalam tabel berikut:\n",
    "\n",
    "Tipe<br>mobil | 2016 | 2017 | 2018 | 2019 | 2020\n",
    "-|||||-\n",
    "A | 200 | 250 | 300 | 150 | 100\n",
    "B | 400 | 500 | 350 | 300 | 200\n",
    "C | 550 | 600 | 500 | 200 | 100\n",
    "D | 600 | 700 | 450 | 300 | 250\n",
    "\n",
    "Nilai jual rata-rata per 50 unit mobil adalah\n",
    "+ Mobil tipe A: 15 Milyar per 50 unit\n",
    "+ Mobil tipe B: 12 Milyar per 50 unit\n",
    "+ Mobil tipe C: 8 Milyar per 50 unit\n",
    "+ Mobil tipe D: 5 Milyar per 50 unit    "
   ]
  }
 ],
 "metadata": {
  "authors": [
   {
    "name": "Sparisoma Viridi"
   }
  ],
  "kernelspec": {
   "display_name": "Python 3 (ipykernel)",
   "language": "python",
   "name": "python3"
  },
  "language_info": {
   "codemirror_mode": {
    "name": "ipython",
    "version": 3
   },
   "file_extension": ".py",
   "mimetype": "text/x-python",
   "name": "python",
   "nbconvert_exporter": "python",
   "pygments_lexer": "ipython3",
   "version": "3.10.4"
  },
  "title": "sell_autos"
 },
 "nbformat": 4,
 "nbformat_minor": 5
}
