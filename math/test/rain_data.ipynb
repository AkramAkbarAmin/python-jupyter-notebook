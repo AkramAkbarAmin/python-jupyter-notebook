{
 "cells": [
  {
   "cell_type": "markdown",
   "id": "d4e69cf6",
   "metadata": {},
   "source": [
    "# rain_data\n",
    "Tes III.3: Logika Angka "
   ]
  },
  {
   "cell_type": "markdown",
   "id": "164cf672",
   "metadata": {},
   "source": [
    "## example\n",
    "Berikut merupakan data curah hujan di kota Bandung, Jakarta, dan Surabaya dalam seminggu terakhir, yang dinyatakan dalam (mm/hari).\n",
    "\n",
    "Kota | Sen | Sel | Rab | Kam | Jum | Sab | Min\n",
    ":--- | --- | --- | --- | --- | --- | --- | ---\n",
    "Bandung  | 30 | 55 | 40 | 35 | 20 | 65 | 70\n",
    "Jakarta  | 25 | 40 | 55 | 20 | 60 | 35 | 75\n",
    "Surabaya | 15 | 30 | 55 | 40 | 55 | 25 | 80\n",
    "\n",
    "10.\tBerapakah persentase kenaikan curah hujan dari hari Jumat ke hari Minggu di kota Surabaya... \\\n",
    "A.\t45% \\\n",
    "B.\t34% \\\n",
    "C.\t40% \\\n",
    "D.\t55% \\\n",
    "E.\t60%"
   ]
  },
  {
   "cell_type": "code",
   "execution_count": 5,
   "id": "64475c85",
   "metadata": {},
   "outputs": [
    {
     "name": "stdout",
     "output_type": "stream",
     "text": [
      "45% (A)\n"
     ]
    }
   ],
   "source": [
    "print(f'{(80-55)/55 * 100:0.0f}%', \"(A)\")"
   ]
  },
  {
   "cell_type": "markdown",
   "id": "3e890854",
   "metadata": {},
   "source": [
    "Kota | Sen | Sel | Rab | Kam | Jum | Sab | Min\n",
    ":--- | --- | --- | --- | --- | --- | --- | ---\n",
    "Bandung  | 30 | 55 | 40 | 35 | 20 | 65 | 70\n",
    "Jakarta  | 25 | 40 | 55 | 20 | 60 | 35 | 75\n",
    "Surabaya | 15 | 30 | 55 | 40 | 55 | 25 | 80\n",
    "\n",
    "11.\tBerapakah selisih rata-rata curah hujan dalam seminggu antara kota Bandung dan Jakarta... \\\n",
    "A.\t2,1 mm/hari \\\n",
    "B.\t1,8 mm/hari \\\n",
    "C.\t2,5 mm/hari \\\n",
    "D.\t1,6 mm/hari \\\n",
    "E.\t1,4 mm/hari"
   ]
  },
  {
   "cell_type": "code",
   "execution_count": 9,
   "id": "c53002a1",
   "metadata": {},
   "outputs": [
    {
     "name": "stdout",
     "output_type": "stream",
     "text": [
      "avg Bandung 45.0\n",
      "avg Jakarta 44.285714285714285\n",
      "Bandung - Jakarta =  0.7 mm/hari\n"
     ]
    }
   ],
   "source": [
    "bdg = (30 + 55 + 40 + 35 + 20 + 65 + 70)/7; print(\"avg Bandung\", bdg)\n",
    "jkt = (25 + 40 + 55 + 20 + 60 + 35 + 75)/7; print(\"avg Jakarta\", jkt)\n",
    "diff = bdg - jkt\n",
    "print(\"Bandung - Jakarta = \", f'{diff:.1f}', \"mm/hari\")"
   ]
  },
  {
   "cell_type": "markdown",
   "id": "4e54e28d",
   "metadata": {},
   "source": [
    "Kota | Sen | Sel | Rab | Kam | Jum | Sab | Min\n",
    ":--- | --- | --- | --- | --- | --- | --- | ---\n",
    "Bandung  | 30 | 55 | 40 | 35 | 20 | 65 | 70\n",
    "Jakarta  | 25 | 40 | 55 | 20 | 60 | 35 | 75\n",
    "Surabaya | 15 | 30 | 55 | 40 | 55 | 25 | 80\n",
    "\n",
    "12.\tJika diprediksi pada hari Rabu minggu depan curah hujan di ketiga kota akan turun 20% dari rata-rata curah hujan di hari Rabu dari ketiga kota tersebut, maka prediksi curah hujan di kota Surabaya pada hari Rabu minggu depan adalah... \\\n",
    "A.\t40 \\\n",
    "B.\t45 \\\n",
    "C.\t35 \\\n",
    "D.\t25 \\\n",
    "E.\t30 "
   ]
  },
  {
   "cell_type": "markdown",
   "id": "2c1e3f39",
   "metadata": {},
   "source": [
    "## new"
   ]
  },
  {
   "cell_type": "markdown",
   "id": "d257af0b",
   "metadata": {},
   "source": [
    "Berikut merupakan data curah hujan di kota Jakarta, Bandung, dan Surabaya dalam seminggu terakhir, yang dinyatakan dalam (mm/hari).\n",
    "\n",
    "Kota | Sen | Sel | Rab | Kam | Jum | Sab | Min\n",
    ":--- | --- | --- | --- | --- | --- | --- | ---\n",
    "Jakarta  | 25 | 40 | 55 | 20 | 60 | 35 | 75\n",
    "Bandung  | 30 | 55 | 40 | 35 | 20 | 65 | 70\n",
    "Surabaya | 15 | 30 | 55 | 40 | 55 | 25 | 80\n",
    "\n",
    "10.\tPersentase kenaikan curah hujan dari hari Senin ke hari Rabu di kota Bandung adalah ... \\\n",
    "A.\t% \\\n",
    "B.\t% \\\n",
    "C.\t% \\\n",
    "D.\t% \\\n",
    "E.\t%"
   ]
  },
  {
   "cell_type": "markdown",
   "id": "ed8e6def",
   "metadata": {},
   "source": [
    "Berikut merupakan data curah hujan di kota Jakarta, Bandung, dan Surabaya dalam seminggu terakhir, yang dinyatakan dalam (mm/hari).\n",
    "\n",
    "Kota | Sen | Sel | Rab | Kam | Jum | Sab | Min\n",
    ":--- | --- | --- | --- | --- | --- | --- | ---\n",
    "Bandung  | 30 | 55 | 40 | 35 | 20 | 65 | 70\n",
    "Jakarta  | 25 | 40 | 55 | 20 | 60 | 35 | 75\n",
    "Surabaya | 15 | 30 | 55 | 40 | 55 | 25 | 80\n",
    "\n",
    "11.\tSelisih rata-rata curah hujan dalam seminggu antara kota Surabaya dan Jakarta adalah ... \\\n",
    "A.\tmm/hari \\\n",
    "B.\tmm/hari \\\n",
    "C.\tmm/hari \\\n",
    "D.\tmm/hari \\\n",
    "E.\tmm/hari"
   ]
  },
  {
   "cell_type": "markdown",
   "id": "df29d4a7",
   "metadata": {},
   "source": [
    "Berikut merupakan data curah hujan di kota Jakarta, Bandung, dan Surabaya dalam seminggu terakhir, yang dinyatakan dalam (mm/hari).\n",
    "\n",
    "Kota | Sen | Sel | Rab | Kam | Jum | Sab | Min\n",
    ":--- | --- | --- | --- | --- | --- | --- | ---\n",
    "Bandung  | 30 | 55 | 40 | 35 | 20 | 65 | 70\n",
    "Jakarta  | 25 | 40 | 55 | 20 | 60 | 35 | 75\n",
    "Surabaya | 15 | 30 | 55 | 40 | 55 | 25 | 80\n",
    "\n",
    "12.\tJika diprediksi pada hari Rabu minggu depan curah hujan di ketiga kota akan turun 20% dari rata-rata curah hujan di hari Rabu dari ketiga kota tersebut, maka prediksi curah hujan di kota Surabaya pada hari Rabu minggu depan adalah ... \\\n",
    "A.\tmm/hari \\\n",
    "B.\tmm/hari \\\n",
    "C.\tmm/hari \\\n",
    "D.\tmm/hari \\\n",
    "E.\tmm/hari "
   ]
  },
  {
   "cell_type": "code",
   "execution_count": null,
   "id": "e539ca88",
   "metadata": {},
   "outputs": [],
   "source": []
  }
 ],
 "metadata": {
  "authors": [
   {
    "name": "Sparisoma Viridi"
   }
  ],
  "kernelspec": {
   "display_name": "Python 3 (ipykernel)",
   "language": "python",
   "name": "python3"
  },
  "language_info": {
   "codemirror_mode": {
    "name": "ipython",
    "version": 3
   },
   "file_extension": ".py",
   "mimetype": "text/x-python",
   "name": "python",
   "nbconvert_exporter": "python",
   "pygments_lexer": "ipython3",
   "version": "3.10.4"
  },
  "title": "rain_data"
 },
 "nbformat": 4,
 "nbformat_minor": 5
}
