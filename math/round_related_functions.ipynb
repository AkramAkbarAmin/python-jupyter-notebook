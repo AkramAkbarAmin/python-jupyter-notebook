{
 "cells": [
  {
   "cell_type": "markdown",
   "id": "d4e69cf6",
   "metadata": {},
   "source": [
    "# round_related_functions\n",
    "There are functions related in rounding a numerical value."
   ]
  },
  {
   "cell_type": "code",
   "execution_count": 1,
   "id": "41276242",
   "metadata": {},
   "outputs": [
    {
     "name": "stdout",
     "output_type": "stream",
     "text": [
      "123.45678 is rounded to 4 decimal places is\n",
      "123.4568\n",
      "\n",
      "123.45678 is rounded to 3 decimal places is\n",
      "123.457\n",
      "\n",
      "123.45678 is rounded to 2 decimal places is\n",
      "123.46\n",
      "\n",
      "123.45678 is rounded to 1 decimal place is\n",
      "123.5\n",
      "\n",
      "123.45678 is rounded to integer is\n",
      "123\n"
     ]
    }
   ],
   "source": [
    "x = 123.45678\n",
    "\n",
    "x4 = round(x, 4)\n",
    "print(x, \"is rounded to 4 decimal places is\")\n",
    "print(x4)\n",
    "print()\n",
    "\n",
    "x3 = round(x, 3)\n",
    "print(x, \"is rounded to 3 decimal places is\")\n",
    "print(x3)\n",
    "print()\n",
    "\n",
    "x2 = round(x, 2)\n",
    "print(x, \"is rounded to 2 decimal places is\")\n",
    "print(x2)\n",
    "print()\n",
    "\n",
    "x1 = round(x, 1)\n",
    "print(x, \"is rounded to 1 decimal place is\")\n",
    "print(x1)\n",
    "print()\n",
    "\n",
    "x0 = round(x)\n",
    "print(x, \"is rounded to integer is\")\n",
    "print(x0)"
   ]
  }
 ],
 "metadata": {
  "authors": [
   {
    "name": "Sparisoma Viridi"
   }
  ],
  "kernelspec": {
   "display_name": "Python 3 (ipykernel)",
   "language": "python",
   "name": "python3"
  },
  "language_info": {
   "codemirror_mode": {
    "name": "ipython",
    "version": 3
   },
   "file_extension": ".py",
   "mimetype": "text/x-python",
   "name": "python",
   "nbconvert_exporter": "python",
   "pygments_lexer": "ipython3",
   "version": "3.10.4"
  },
  "title": "round_related_functions"
 },
 "nbformat": 4,
 "nbformat_minor": 5
}
