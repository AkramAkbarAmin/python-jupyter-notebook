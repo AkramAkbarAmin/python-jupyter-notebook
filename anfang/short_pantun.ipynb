{
 "cells": [
  {
   "cell_type": "markdown",
   "id": "d4e69cf6",
   "metadata": {},
   "source": [
    "# short_pantun\n",
    "Display one stanza of a pantun, a four-line stanza poem. It uses `print` for every line."
   ]
  },
  {
   "cell_type": "code",
   "execution_count": 1,
   "id": "d368b309",
   "metadata": {},
   "outputs": [
    {
     "name": "stdout",
     "output_type": "stream",
     "text": [
      "Ambil satu kertas karton\n",
      "Lipat sana potong sini\n",
      "Jangan ragu belajar Python\n",
      "Bila semangat bisa pasti\n"
     ]
    }
   ],
   "source": [
    "print(\"Ambil satu kertas karton\")\n",
    "print(\"Lipat sana potong sini\")\n",
    "print(\"Jangan ragu belajar Python\")\n",
    "print(\"Bila semangat bisa pasti\")"
   ]
  }
 ],
 "metadata": {
  "authors": [
   {
    "name": "Sparisoma Viridi"
   }
  ],
  "kernelspec": {
   "display_name": "Python 3 (ipykernel)",
   "language": "python",
   "name": "python3"
  },
  "language_info": {
   "codemirror_mode": {
    "name": "ipython",
    "version": 3
   },
   "file_extension": ".py",
   "mimetype": "text/x-python",
   "name": "python",
   "nbconvert_exporter": "python",
   "pygments_lexer": "ipython3",
   "version": "3.10.4"
  },
  "title": "hello-world"
 },
 "nbformat": 4,
 "nbformat_minor": 5
}
