{
 "cells": [
  {
   "cell_type": "markdown",
   "id": "d4e69cf6",
   "metadata": {},
   "source": [
    "# nested_if_level_3\n",
    "If necessary the `if` statement can be nested, e.g three level."
   ]
  },
  {
   "cell_type": "code",
   "execution_count": 9,
   "id": "96f1a640",
   "metadata": {},
   "outputs": [
    {
     "name": "stdout",
     "output_type": "stream",
     "text": [
      "5\n",
      "False True False\n"
     ]
    }
   ],
   "source": [
    "# define three parameters\n",
    "a = False\n",
    "b = True\n",
    "c = False\n",
    "\n",
    "# three level if statement\n",
    "if a:\n",
    "    if b:\n",
    "        if c:\n",
    "            # True True True\n",
    "            print(\"0\", sep= ' ')\n",
    "            print(a, b, c)\n",
    "            pass\n",
    "        else:\n",
    "            # True True False\n",
    "            print(\"1\", sep= ' ')\n",
    "            print(a, b, c)\n",
    "            pass\n",
    "    else:\n",
    "        if c:\n",
    "            # True False True\n",
    "            print(\"2\", sep= ' ')\n",
    "            print(a, b, c)\n",
    "            pass\n",
    "        else:\n",
    "            # True False False\n",
    "            print(\"3\", sep= ' ')\n",
    "            print(a, b, c)\n",
    "            pass\n",
    "else:\n",
    "    if b:\n",
    "        if c:\n",
    "            # False True True\n",
    "            print(\"4\", sep= ' ')\n",
    "            print(a, b, c)\n",
    "            pass\n",
    "        else:\n",
    "            # False True False\n",
    "            print(\"5\", sep= ' ')\n",
    "            print(a, b, c)\n",
    "            pass\n",
    "    else:\n",
    "        if c:\n",
    "            # False False True\n",
    "            print(\"6\", sep= ' ')\n",
    "            print(a, b, c)\n",
    "            pass\n",
    "        else:\n",
    "            # False False False\n",
    "            print(\"7\", sep= ' ')\n",
    "            print(a, b, c)\n",
    "            pass"
   ]
  },
  {
   "cell_type": "code",
   "execution_count": null,
   "id": "a3075462",
   "metadata": {},
   "outputs": [],
   "source": []
  }
 ],
 "metadata": {
  "authors": [
   {
    "name": "Sparisoma Viridi"
   }
  ],
  "kernelspec": {
   "display_name": "Python 3 (ipykernel)",
   "language": "python",
   "name": "python3"
  },
  "language_info": {
   "codemirror_mode": {
    "name": "ipython",
    "version": 3
   },
   "file_extension": ".py",
   "mimetype": "text/x-python",
   "name": "python",
   "nbconvert_exporter": "python",
   "pygments_lexer": "ipython3",
   "version": "3.10.4"
  },
  "title": "nested_if_level_3"
 },
 "nbformat": 4,
 "nbformat_minor": 5
}
