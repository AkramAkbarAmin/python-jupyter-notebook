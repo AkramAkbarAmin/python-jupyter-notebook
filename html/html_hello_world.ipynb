{
 "cells": [
  {
   "cell_type": "markdown",
   "id": "d4e69cf6",
   "metadata": {},
   "source": [
    "# html_hello_world\n",
    "Examples how to rendered a HTML containing \"Hello, World!\" message."
   ]
  },
  {
   "cell_type": "code",
   "execution_count": 19,
   "id": "f4e108fa",
   "metadata": {},
   "outputs": [
    {
     "data": {
      "text/html": [
       "\n",
       "<div style=\"\n",
       "  border:#cc0 1px solid;\n",
       "  background: #ffc; \n",
       "  padding: 10px 20px;\n",
       "  border-radius: 10px;\n",
       "  width: 200px;\n",
       "  text-align: center;\n",
       "\">\n",
       "Hello, World!\n",
       "<div>\n"
      ],
      "text/plain": [
       "<IPython.core.display.HTML object>"
      ]
     },
     "execution_count": 19,
     "metadata": {},
     "output_type": "execute_result"
    }
   ],
   "source": [
    "from IPython.core.display import HTML\n",
    "HTML('''\n",
    "<div style=\"\n",
    "  border:#cc0 1px solid;\n",
    "  background: #ffc; \n",
    "  padding: 10px 20px;\n",
    "  border-radius: 10px;\n",
    "  width: 200px;\n",
    "  text-align: center;\n",
    "\">\n",
    "Hello, World!\n",
    "<div>\n",
    "''')\n"
   ]
  }
 ],
 "metadata": {
  "authors": [
   {
    "name": "Sparisoma Viridi"
   }
  ],
  "kernelspec": {
   "display_name": "Python 3 (ipykernel)",
   "language": "python",
   "name": "python3"
  },
  "language_info": {
   "codemirror_mode": {
    "name": "ipython",
    "version": 3
   },
   "file_extension": ".py",
   "mimetype": "text/x-python",
   "name": "python",
   "nbconvert_exporter": "python",
   "pygments_lexer": "ipython3",
   "version": "3.10.4"
  },
  "title": "html_hello_world"
 },
 "nbformat": 4,
 "nbformat_minor": 5
}
