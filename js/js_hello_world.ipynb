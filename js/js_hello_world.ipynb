{
 "cells": [
  {
   "cell_type": "markdown",
   "id": "d4e69cf6",
   "metadata": {},
   "source": [
    "# js_hello_world\n",
    "Examples how to rendered the result of JavaScript containing \"Hello, World!\" message."
   ]
  },
  {
   "cell_type": "markdown",
   "id": "410f07d0",
   "metadata": {},
   "source": [
    "## a div with js"
   ]
  },
  {
   "cell_type": "code",
   "execution_count": 3,
   "id": "0cd55a88",
   "metadata": {},
   "outputs": [
    {
     "data": {
      "application/javascript": [
       "\n",
       "var div document.createElement(\"div\");\n",
       "div.innerHTML = \"Hello, World!\";\n",
       "document.body.append(div);\n"
      ],
      "text/plain": [
       "<IPython.core.display.Javascript object>"
      ]
     },
     "execution_count": 3,
     "metadata": {},
     "output_type": "execute_result"
    }
   ],
   "source": [
    "from IPython.display import display,Javascript\n",
    "Javascript('''\n",
    "var div document.createElement(\"div\");\n",
    "div.innerHTML = \"Hello, World!\";\n",
    "document.body.append(div);\n",
    "''')"
   ]
  },
  {
   "cell_type": "code",
   "execution_count": null,
   "id": "f2d709e4",
   "metadata": {},
   "outputs": [],
   "source": []
  }
 ],
 "metadata": {
  "authors": [
   {
    "name": "Sparisoma Viridi"
   }
  ],
  "kernelspec": {
   "display_name": "Python 3 (ipykernel)",
   "language": "python",
   "name": "python3"
  },
  "language_info": {
   "codemirror_mode": {
    "name": "ipython",
    "version": 3
   },
   "file_extension": ".py",
   "mimetype": "text/x-python",
   "name": "python",
   "nbconvert_exporter": "python",
   "pygments_lexer": "ipython3",
   "version": "3.10.4"
  },
  "title": "js_hello_world"
 },
 "nbformat": 4,
 "nbformat_minor": 5
}
