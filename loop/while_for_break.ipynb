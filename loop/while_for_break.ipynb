{
 "cells": [
  {
   "cell_type": "markdown",
   "id": "d4e69cf6",
   "metadata": {},
   "source": [
    "# while_for_break\n",
    "Loops can be performed in Python using `for` or `while`, where the former is for definite loops and the latter is for indefinite loops and both can be inside the other, e.g. `for` loop inside a `while` loop, then they can also stopped using `break."
   ]
  }
 ],
 "metadata": {
  "authors": [
   {
    "name": "Sparisoma Viridi"
   }
  ],
  "kernelspec": {
   "display_name": "Python 3 (ipykernel)",
   "language": "python",
   "name": "python3"
  },
  "language_info": {
   "codemirror_mode": {
    "name": "ipython",
    "version": 3
   },
   "file_extension": ".py",
   "mimetype": "text/x-python",
   "name": "python",
   "nbconvert_exporter": "python",
   "pygments_lexer": "ipython3",
   "version": "3.10.4"
  },
  "title": "while_for_break"
 },
 "nbformat": 4,
 "nbformat_minor": 5
}
