{
 "cells": [
  {
   "cell_type": "markdown",
   "id": "d4e69cf6",
   "metadata": {},
   "source": [
    "# slice_operators\n",
    "Part of a list or a string can be sliced using slice operators."
   ]
  },
  {
   "cell_type": "code",
   "execution_count": 6,
   "id": "80eb8f1e",
   "metadata": {},
   "outputs": [
    {
     "name": "stdout",
     "output_type": "stream",
     "text": [
      "a = [1, 3, 5, 7, 9]\n",
      "\n",
      "a[0:2] = [1, 3]\n",
      "a[0:-1] = [1, 3, 5, 7]\n",
      "a[2:3] = [5]\n",
      "a[2:] = [7, 9]\n"
     ]
    }
   ],
   "source": [
    "a = [1, 3, 5, 7, 9]\n",
    "print(\"a =\", a)\n",
    "print()\n",
    "\n",
    "print(\"a[0:2] =\", a[0:2])\n",
    "print(\"a[0:-1] =\", a[0:-1])\n",
    "print(\"a[2:3] =\", a[2:3])\n",
    "print(\"a[2:] =\", a[3:])"
   ]
  },
  {
   "cell_type": "code",
   "execution_count": 7,
   "id": "e7d18bd6",
   "metadata": {},
   "outputs": [
    {
     "name": "stdout",
     "output_type": "stream",
     "text": [
      "a = 0123456789\n",
      "\n",
      "a[0:2] = 01\n",
      "a[0:-1] = 012345678\n",
      "a[2:3] = 2\n",
      "a[2:] = 3456789\n"
     ]
    }
   ],
   "source": [
    "a = \"0123456789\"\n",
    "print(\"a =\", a)\n",
    "print()\n",
    "\n",
    "print(\"a[0:2] =\", a[0:2])\n",
    "print(\"a[0:-1] =\", a[0:-1])\n",
    "print(\"a[2:3] =\", a[2:3])\n",
    "print(\"a[2:] =\", a[3:])"
   ]
  },
  {
   "cell_type": "code",
   "execution_count": 11,
   "id": "a088916f",
   "metadata": {},
   "outputs": [
    {
     "name": "stdout",
     "output_type": "stream",
     "text": [
      "a = [0, 1, 2, 3, 4, 5, 6, 7, 8, 9]\n",
      "\n"
     ]
    },
    {
     "ename": "TypeError",
     "evalue": "can only assign an iterable",
     "output_type": "error",
     "traceback": [
      "\u001b[1;31m---------------------------------------------------------------------------\u001b[0m",
      "\u001b[1;31mTypeError\u001b[0m                                 Traceback (most recent call last)",
      "Input \u001b[1;32mIn [11]\u001b[0m, in \u001b[0;36m<cell line: 5>\u001b[1;34m()\u001b[0m\n\u001b[0;32m      2\u001b[0m \u001b[38;5;28mprint\u001b[39m(\u001b[38;5;124m\"\u001b[39m\u001b[38;5;124ma =\u001b[39m\u001b[38;5;124m\"\u001b[39m, a)\n\u001b[0;32m      3\u001b[0m \u001b[38;5;28mprint\u001b[39m()\n\u001b[1;32m----> 5\u001b[0m a[\u001b[38;5;241m2\u001b[39m:\u001b[38;5;241m5\u001b[39m] \u001b[38;5;241m=\u001b[39m \u001b[38;5;241m0\u001b[39m\n\u001b[0;32m      6\u001b[0m \u001b[38;5;28mprint\u001b[39m(\u001b[38;5;124m\"\u001b[39m\u001b[38;5;124ma[2:5] = 0\u001b[39m\u001b[38;5;124m\"\u001b[39m)\n\u001b[0;32m      7\u001b[0m \u001b[38;5;28mprint\u001b[39m(\u001b[38;5;124m\"\u001b[39m\u001b[38;5;124ma =\u001b[39m\u001b[38;5;124m\"\u001b[39m, a)\n",
      "\u001b[1;31mTypeError\u001b[0m: can only assign an iterable"
     ]
    }
   ],
   "source": [
    "a = [0, 1, 2, 3, 4, 5, 6, 7, 8, 9]\n",
    "print(\"a =\", a)\n",
    "print()\n",
    "\n",
    "a[2:5] = 0\n",
    "print(\"a[2:5] = 0\")\n",
    "print(\"a =\", a)"
   ]
  },
  {
   "cell_type": "code",
   "execution_count": null,
   "id": "cacc1c79",
   "metadata": {},
   "outputs": [],
   "source": []
  }
 ],
 "metadata": {
  "authors": [
   {
    "name": "Sparisoma Viridi"
   }
  ],
  "kernelspec": {
   "display_name": "Python 3 (ipykernel)",
   "language": "python",
   "name": "python3"
  },
  "language_info": {
   "codemirror_mode": {
    "name": "ipython",
    "version": 3
   },
   "file_extension": ".py",
   "mimetype": "text/x-python",
   "name": "python",
   "nbconvert_exporter": "python",
   "pygments_lexer": "ipython3",
   "version": "3.10.4"
  },
  "title": "slice_operators"
 },
 "nbformat": 4,
 "nbformat_minor": 5
}
