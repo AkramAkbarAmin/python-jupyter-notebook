{
 "cells": [
  {
   "cell_type": "markdown",
   "id": "d4e69cf6",
   "metadata": {},
   "source": [
    "# physconst_import\n",
    "How to use `physconst` module."
   ]
  },
  {
   "cell_type": "code",
   "execution_count": null,
   "id": "90866b6b",
   "metadata": {},
   "outputs": [],
   "source": [
    "import ipynb.fs.full.physconst"
   ]
  }
 ],
 "metadata": {
  "authors": [
   {
    "name": "Sparisoma Viridi"
   }
  ],
  "kernelspec": {
   "display_name": "Python 3 (ipykernel)",
   "language": "python",
   "name": "python3"
  },
  "language_info": {
   "codemirror_mode": {
    "name": "ipython",
    "version": 3
   },
   "file_extension": ".py",
   "mimetype": "text/x-python",
   "name": "python",
   "nbconvert_exporter": "python",
   "pygments_lexer": "ipython3",
   "version": "3.10.4"
  },
  "title": "physconst_import"
 },
 "nbformat": 4,
 "nbformat_minor": 5
}
