{
 "cells": [
  {
   "cell_type": "markdown",
   "id": "d4e69cf6",
   "metadata": {},
   "source": [
    "# physconst\n",
    "Simple module containing some physical constants"
   ]
  },
  {
   "cell_type": "markdown",
   "id": "cf330078",
   "metadata": {},
   "source": [
    "constant of gravitation\tG\t6.67384 × 10−11 cubic metre per second squared per kilogram\n",
    "speed of light (in a vacuum)\tc\t2.99792458 × 108 metres per second\n",
    "Planck's constant\th\t6.626070040 × 10−34 joule second\n",
    "Boltzmann constant\tk\t1.38064852 × 10−23 joule per kelvin\n",
    "Faraday constant\tF\t9.648533289 × 104 coulombs per mole\n",
    "electron rest mass\tme\t9.10938356 × 10−31 kilogram\n",
    "proton rest mass\tmp\t1.672621898 × 10−27 kilogram\n",
    "neutron rest mass\tmn\t1.674927471 × 10−27 kilogram\n",
    "charge on electron\te\t1.6021766208 × 10−19 coulomb\n",
    "Rydberg constant\tR∞\t1.0973731568508 × 107 per metre\n",
    "Stefan-Boltzmann constant\tσ\t5.670367 × 10−8 watt per square metre per kelvin4\n",
    "fine-structure constant\tα\t7.2973525664 × 10−3"
   ]
  }
 ],
 "metadata": {
  "authors": [
   {
    "name": "Sparisoma Viridi"
   }
  ],
  "kernelspec": {
   "display_name": "Python 3 (ipykernel)",
   "language": "python",
   "name": "python3"
  },
  "language_info": {
   "codemirror_mode": {
    "name": "ipython",
    "version": 3
   },
   "file_extension": ".py",
   "mimetype": "text/x-python",
   "name": "python",
   "nbconvert_exporter": "python",
   "pygments_lexer": "ipython3",
   "version": "3.10.4"
  },
  "title": "physconst"
 },
 "nbformat": 4,
 "nbformat_minor": 5
}
